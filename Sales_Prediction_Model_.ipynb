{
  "nbformat": 4,
  "nbformat_minor": 0,
  "metadata": {
    "colab": {
      "provenance": [],
      "authorship_tag": "ABX9TyMvq2XsQ2XOEW8wg/TrmwnO",
      "include_colab_link": true
    },
    "kernelspec": {
      "name": "python3",
      "display_name": "Python 3"
    },
    "language_info": {
      "name": "python"
    }
  },
  "cells": [
    {
      "cell_type": "markdown",
      "metadata": {
        "id": "view-in-github",
        "colab_type": "text"
      },
      "source": [
        "<a href=\"https://colab.research.google.com/github/Abhay069/Sales-Prediction-Model/blob/main/Sales_Prediction_Model_.ipynb\" target=\"_parent\"><img src=\"https://colab.research.google.com/assets/colab-badge.svg\" alt=\"Open In Colab\"/></a>"
      ]
    },
    {
      "cell_type": "markdown",
      "source": [
        "# Name : Abhay Singh\n",
        "#Email id: abhaysinghnigaltiya036@gmail.com"
      ],
      "metadata": {
        "id": "xTk14zLnXxqX"
      }
    },
    {
      "cell_type": "code",
      "execution_count": 24,
      "metadata": {
        "id": "3OUi11FH6Ws7"
      },
      "outputs": [],
      "source": [
        "import numpy as np\n",
        "import pandas as pd\n",
        "from sklearn.model_selection import train_test_split\n",
        "import matplotlib.pyplot as plt\n",
        "import seaborn as sns\n",
        "from sklearn.metrics import r2_score\n",
        "from sklearn.metrics import mean_squared_error\n",
        "from sklearn.metrics import mean_absolute_error\n",
        "import lightgbm as  lgb\n",
        "from sklearn.preprocessing import LabelEncoder"
      ]
    },
    {
      "cell_type": "code",
      "source": [
        "# csv to pandas datafram\n",
        "\n",
        "FMCG_data = pd.read_csv(\"/content/FMCG_2022_2024.csv\")\n",
        "print(\"Succesfully Converted to Pandas DataFrame\")\n",
        "\n",
        "# Displaying the data\n",
        "print(\"\\nNO of Row and Columns\")\n",
        "print(FMCG_data.shape)\n",
        "#\n",
        "print(\"\\nGetting some information about the dataset\")\n",
        "print(FMCG_data.info())\n",
        "\n",
        "print(\"\\nGetting some statistical information about the dataset\")\n",
        "print(FMCG_data.describe())\n",
        "\n",
        "print (\"\\nChecking for missing values\")\n",
        "print(FMCG_data.isnull().sum())"
      ],
      "metadata": {
        "colab": {
          "base_uri": "https://localhost:8080/"
        },
        "id": "4voJ_Slm8rxL",
        "outputId": "009238f8-d35d-48d3-c302-b5165615f80d"
      },
      "execution_count": 25,
      "outputs": [
        {
          "output_type": "stream",
          "name": "stdout",
          "text": [
            "Succesfully Converted to Pandas DataFrame\n",
            "\n",
            "NO of Row and Columns\n",
            "(190757, 14)\n",
            "\n",
            "Getting some information about the dataset\n",
            "<class 'pandas.core.frame.DataFrame'>\n",
            "RangeIndex: 190757 entries, 0 to 190756\n",
            "Data columns (total 14 columns):\n",
            " #   Column           Non-Null Count   Dtype  \n",
            "---  ------           --------------   -----  \n",
            " 0   date             190757 non-null  object \n",
            " 1   sku              190757 non-null  object \n",
            " 2   brand            190757 non-null  object \n",
            " 3   segment          190757 non-null  object \n",
            " 4   category         190757 non-null  object \n",
            " 5   channel          190757 non-null  object \n",
            " 6   region           190757 non-null  object \n",
            " 7   pack_type        190757 non-null  object \n",
            " 8   price_unit       190757 non-null  float64\n",
            " 9   promotion_flag   190757 non-null  int64  \n",
            " 10  delivery_days    190757 non-null  int64  \n",
            " 11  stock_available  190757 non-null  int64  \n",
            " 12  delivered_qty    190757 non-null  int64  \n",
            " 13  units_sold       190757 non-null  int64  \n",
            "dtypes: float64(1), int64(5), object(8)\n",
            "memory usage: 20.4+ MB\n",
            "None\n",
            "\n",
            "Getting some statistical information about the dataset\n",
            "          price_unit  promotion_flag  delivery_days  stock_available  \\\n",
            "count  190757.000000   190757.000000  190757.000000    190757.000000   \n",
            "mean        5.251979        0.149200       3.004860       157.697652   \n",
            "std         2.166705        0.356287       1.414626        52.736104   \n",
            "min         1.500000        0.000000       1.000000       -12.000000   \n",
            "25%         3.380000        0.000000       2.000000       124.000000   \n",
            "50%         5.250000        0.000000       3.000000       155.000000   \n",
            "75%         7.130000        0.000000       4.000000       192.000000   \n",
            "max         9.000000        1.000000       5.000000       405.000000   \n",
            "\n",
            "       delivered_qty     units_sold  \n",
            "count  190757.000000  190757.000000  \n",
            "mean      179.333655      19.919709  \n",
            "std        40.037475      11.770077  \n",
            "min       -11.000000     -25.000000  \n",
            "25%       152.000000      12.000000  \n",
            "50%       179.000000      18.000000  \n",
            "75%       206.000000      25.000000  \n",
            "max       366.000000     139.000000  \n",
            "\n",
            "Checking for missing values\n",
            "date               0\n",
            "sku                0\n",
            "brand              0\n",
            "segment            0\n",
            "category           0\n",
            "channel            0\n",
            "region             0\n",
            "pack_type          0\n",
            "price_unit         0\n",
            "promotion_flag     0\n",
            "delivery_days      0\n",
            "stock_available    0\n",
            "delivered_qty      0\n",
            "units_sold         0\n",
            "dtype: int64\n"
          ]
        }
      ]
    },
    {
      "cell_type": "code",
      "source": [
        "# fIRST and last 5 ROWS\n",
        "print(\"First 5 rows of dataset\")\n",
        "print(FMCG_data.head())\n",
        "print(\"\\nLast 5 rows of dataset\")\n",
        "print(FMCG_data.tail())"
      ],
      "metadata": {
        "colab": {
          "base_uri": "https://localhost:8080/"
        },
        "id": "FZUMcEE_BPfz",
        "outputId": "1df1e10e-dd49-4a32-b0e2-72fdb4b68c1b"
      },
      "execution_count": 26,
      "outputs": [
        {
          "output_type": "stream",
          "name": "stdout",
          "text": [
            "First 5 rows of dataset\n",
            "         date     sku     brand    segment category   channel      region  \\\n",
            "0  2022-01-21  MI-006  MiBrand1  Milk-Seg3     Milk    Retail  PL-Central   \n",
            "1  2022-01-21  MI-006  MiBrand1  Milk-Seg3     Milk    Retail    PL-North   \n",
            "2  2022-01-21  MI-006  MiBrand1  Milk-Seg3     Milk    Retail    PL-South   \n",
            "3  2022-01-21  MI-006  MiBrand1  Milk-Seg3     Milk  Discount  PL-Central   \n",
            "4  2022-01-21  MI-006  MiBrand1  Milk-Seg3     Milk  Discount    PL-North   \n",
            "\n",
            "   pack_type  price_unit  promotion_flag  delivery_days  stock_available  \\\n",
            "0  Multipack        2.38               0              1              141   \n",
            "1     Single        1.55               1              3                0   \n",
            "2     Carton        4.00               0              5              118   \n",
            "3     Single        5.16               0              2               81   \n",
            "4     Single        7.66               0              4              148   \n",
            "\n",
            "   delivered_qty  units_sold  \n",
            "0            128           9  \n",
            "1            129           0  \n",
            "2            161           8  \n",
            "3            114           7  \n",
            "4            204          12  \n",
            "\n",
            "Last 5 rows of dataset\n",
            "              date     sku     brand        segment  category     channel  \\\n",
            "190752  2024-12-31  SN-030  SnBrand2  SnackBar-Seg1  SnackBar    Discount   \n",
            "190753  2024-12-31  SN-030  SnBrand2  SnackBar-Seg1  SnackBar    Discount   \n",
            "190754  2024-12-31  SN-030  SnBrand2  SnackBar-Seg1  SnackBar  E-commerce   \n",
            "190755  2024-12-31  SN-030  SnBrand2  SnackBar-Seg1  SnackBar  E-commerce   \n",
            "190756  2024-12-31  SN-030  SnBrand2  SnackBar-Seg1  SnackBar  E-commerce   \n",
            "\n",
            "            region  pack_type  price_unit  promotion_flag  delivery_days  \\\n",
            "190752    PL-North     Single        2.55               0              2   \n",
            "190753    PL-South     Single        6.01               0              5   \n",
            "190754  PL-Central     Single        3.45               0              5   \n",
            "190755    PL-North  Multipack        1.93               1              2   \n",
            "190756    PL-South     Single        1.91               0              5   \n",
            "\n",
            "        stock_available  delivered_qty  units_sold  \n",
            "190752              190            163          25  \n",
            "190753              141            131          19  \n",
            "190754                0            132           0  \n",
            "190755              211            201          40  \n",
            "190756               82            125           8  \n"
          ]
        }
      ]
    },
    {
      "cell_type": "code",
      "source": [
        "# Adding new column by converting to datatime objects\n",
        "FMCG_data[\"date\"] = pd.to_datetime(FMCG_data[\"date\"])\n",
        "\n",
        "# Extract features (time-based)\n",
        "FMCG_data[\"day\"] = FMCG_data[\"date\"].dt.day\n",
        "FMCG_data[\"month\"] = FMCG_data[\"date\"].dt.month\n",
        "FMCG_data[\"year\"] = FMCG_data[\"date\"].dt.year\n",
        "FMCG_data[\"day_of_week\"] = FMCG_data[\"date\"].dt.dayofweek\n",
        "FMCG_data[\"day_of_year\"] = FMCG_data[\"date\"].dt.dayofyear\n",
        "FMCG_data[\"week_of_year\"] = FMCG_data[\"date\"].dt.isocalendar().week.astype(int)\n",
        "FMCG_data[\"quarter\"] = FMCG_data[\"date\"].dt.quarter\n",
        "\n",
        "# cyclical Features\n",
        "# This helps the model understand that time repeats in cycles (e.g., a week, a year).\n",
        "\n",
        "# Day of the week (cycle of 7 days)\n",
        "FMCG_data['day_of_week_sin'] = np.sin(2 * np.pi * FMCG_data['day_of_week'] / 7)\n",
        "FMCG_data['day_of_week_cos'] = np.cos(2 * np.pi * FMCG_data['day_of_week'] / 7)\n",
        "\n",
        "# Month of the year (cycle of 12 months)\n",
        "FMCG_data['month_sin'] = np.sin(2 * np.pi * FMCG_data['month'] / 12)\n",
        "FMCG_data['month_cos'] = np.cos(2 * np.pi * FMCG_data['month'] / 12)\n",
        "\n",
        "# Day of the year (cycle of 365 days)\n",
        "# Using 365.25 helps account for leap years\n",
        "FMCG_data['day_of_year_sin'] = np.sin(2 * np.pi * FMCG_data['day_of_year'] / 365)\n",
        "FMCG_data['day_of_year_cos'] = np.cos(2 * np.pi * FMCG_data['day_of_year'] / 365)\n",
        "# Display the new features to verify\n",
        "print(FMCG_data[['date','year','month','day','quarter','week_of_year','day_of_year','day_of_week','month_sin','month_cos','day_of_week_sin','day_of_week_cos','day_of_year_sin','day_of_year_cos'\n",
        "]].head(25))\n"
      ],
      "metadata": {
        "colab": {
          "base_uri": "https://localhost:8080/"
        },
        "id": "5wtt1QTnh9iz",
        "outputId": "137bc659-fc75-4e9a-f0f1-c9d30ee1eab7"
      },
      "execution_count": 27,
      "outputs": [
        {
          "output_type": "stream",
          "name": "stdout",
          "text": [
            "         date  year  month  day  quarter  week_of_year  day_of_year  \\\n",
            "0  2022-01-21  2022      1   21        1             3           21   \n",
            "1  2022-01-21  2022      1   21        1             3           21   \n",
            "2  2022-01-21  2022      1   21        1             3           21   \n",
            "3  2022-01-21  2022      1   21        1             3           21   \n",
            "4  2022-01-21  2022      1   21        1             3           21   \n",
            "5  2022-01-21  2022      1   21        1             3           21   \n",
            "6  2022-01-21  2022      1   21        1             3           21   \n",
            "7  2022-01-21  2022      1   21        1             3           21   \n",
            "8  2022-01-22  2022      1   22        1             3           22   \n",
            "9  2022-01-22  2022      1   22        1             3           22   \n",
            "10 2022-01-22  2022      1   22        1             3           22   \n",
            "11 2022-01-22  2022      1   22        1             3           22   \n",
            "12 2022-01-22  2022      1   22        1             3           22   \n",
            "13 2022-01-22  2022      1   22        1             3           22   \n",
            "14 2022-01-22  2022      1   22        1             3           22   \n",
            "15 2022-01-22  2022      1   22        1             3           22   \n",
            "16 2022-01-22  2022      1   22        1             3           22   \n",
            "17 2022-01-22  2022      1   22        1             3           22   \n",
            "18 2022-01-22  2022      1   22        1             3           22   \n",
            "19 2022-01-22  2022      1   22        1             3           22   \n",
            "20 2022-01-23  2022      1   23        1             3           23   \n",
            "21 2022-01-23  2022      1   23        1             3           23   \n",
            "22 2022-01-23  2022      1   23        1             3           23   \n",
            "23 2022-01-23  2022      1   23        1             3           23   \n",
            "24 2022-01-23  2022      1   23        1             3           23   \n",
            "\n",
            "    day_of_week  month_sin  month_cos  day_of_week_sin  day_of_week_cos  \\\n",
            "0             4        0.5   0.866025        -0.433884        -0.900969   \n",
            "1             4        0.5   0.866025        -0.433884        -0.900969   \n",
            "2             4        0.5   0.866025        -0.433884        -0.900969   \n",
            "3             4        0.5   0.866025        -0.433884        -0.900969   \n",
            "4             4        0.5   0.866025        -0.433884        -0.900969   \n",
            "5             4        0.5   0.866025        -0.433884        -0.900969   \n",
            "6             4        0.5   0.866025        -0.433884        -0.900969   \n",
            "7             4        0.5   0.866025        -0.433884        -0.900969   \n",
            "8             5        0.5   0.866025        -0.974928        -0.222521   \n",
            "9             5        0.5   0.866025        -0.974928        -0.222521   \n",
            "10            5        0.5   0.866025        -0.974928        -0.222521   \n",
            "11            5        0.5   0.866025        -0.974928        -0.222521   \n",
            "12            5        0.5   0.866025        -0.974928        -0.222521   \n",
            "13            5        0.5   0.866025        -0.974928        -0.222521   \n",
            "14            5        0.5   0.866025        -0.974928        -0.222521   \n",
            "15            5        0.5   0.866025        -0.974928        -0.222521   \n",
            "16            5        0.5   0.866025        -0.974928        -0.222521   \n",
            "17            5        0.5   0.866025        -0.974928        -0.222521   \n",
            "18            5        0.5   0.866025        -0.974928        -0.222521   \n",
            "19            5        0.5   0.866025        -0.974928        -0.222521   \n",
            "20            6        0.5   0.866025        -0.781831         0.623490   \n",
            "21            6        0.5   0.866025        -0.781831         0.623490   \n",
            "22            6        0.5   0.866025        -0.781831         0.623490   \n",
            "23            6        0.5   0.866025        -0.781831         0.623490   \n",
            "24            6        0.5   0.866025        -0.781831         0.623490   \n",
            "\n",
            "    day_of_year_sin  day_of_year_cos  \n",
            "0          0.353676         0.935368  \n",
            "1          0.353676         0.935368  \n",
            "2          0.353676         0.935368  \n",
            "3          0.353676         0.935368  \n",
            "4          0.353676         0.935368  \n",
            "5          0.353676         0.935368  \n",
            "6          0.353676         0.935368  \n",
            "7          0.353676         0.935368  \n",
            "8          0.369725         0.929141  \n",
            "9          0.369725         0.929141  \n",
            "10         0.369725         0.929141  \n",
            "11         0.369725         0.929141  \n",
            "12         0.369725         0.929141  \n",
            "13         0.369725         0.929141  \n",
            "14         0.369725         0.929141  \n",
            "15         0.369725         0.929141  \n",
            "16         0.369725         0.929141  \n",
            "17         0.369725         0.929141  \n",
            "18         0.369725         0.929141  \n",
            "19         0.369725         0.929141  \n",
            "20         0.385663         0.922640  \n",
            "21         0.385663         0.922640  \n",
            "22         0.385663         0.922640  \n",
            "23         0.385663         0.922640  \n",
            "24         0.385663         0.922640  \n"
          ]
        }
      ]
    },
    {
      "cell_type": "markdown",
      "source": [
        "# Data Preprocessing\n"
      ],
      "metadata": {
        "id": "sNwYd17q59As"
      }
    },
    {
      "cell_type": "code",
      "source": [
        "# Create the new interaction feature while the columns are still text\n",
        "FMCG_data['b_r_interaction'] = FMCG_data['brand'].astype(str) + '_' + FMCG_data['region'].astype(str)  # The '_': This is a string literal representing a single underscore character. It acts as a separator to make the new, combined text easier to read.\n",
        "# Identify categorical columns for encoding\n",
        "#  convert these text-based labels into a numerical format.\n",
        "numerical_frt = ['sku', 'brand', 'segment', 'category', 'channel', 'region', 'pack_type','b_r_interaction']\n",
        "\n",
        "# Appling Label Encoding\n",
        "for col in numerical_frt:\n",
        "    lbe = LabelEncoder()\n",
        "    FMCG_data[col] = lbe.fit_transform(FMCG_data[col])\n",
        "\n",
        "print(\"Displaying first 25 value of Dataset after adding and encoding the interaction feature:\")\n",
        "print(\"\\n\")\n",
        "print(FMCG_data[['brand', 'region', 'b_r_interaction']].head(25))\n",
        "# The 'axis=1' part tells pandas you are dropping a column, not a row.\n",
        "FMCG_data = FMCG_data.drop('date', axis=1)\n",
        "print(\"The 'date' column has been dropped.\")\n",
        "\n",
        "print(\"first 5 line of final feature set:\")\n",
        "print(FMCG_data.head())"
      ],
      "metadata": {
        "colab": {
          "base_uri": "https://localhost:8080/"
        },
        "id": "d6I0nb5_oe38",
        "outputId": "ec7c883f-cc42-49de-ee23-3c67c8147d43"
      },
      "execution_count": 28,
      "outputs": [
        {
          "output_type": "stream",
          "name": "stdout",
          "text": [
            "Displaying first 25 value of Dataset after adding and encoding the interaction feature:\n",
            "\n",
            "\n",
            "    brand  region  b_r_interaction\n",
            "0       1       0                3\n",
            "1       1       1                4\n",
            "2       1       2                5\n",
            "3       1       0                3\n",
            "4       1       1                4\n",
            "5       1       2                5\n",
            "6       1       1                4\n",
            "7       1       2                5\n",
            "8       1       0                3\n",
            "9       1       1                4\n",
            "10      1       0                3\n",
            "11      1       1                4\n",
            "12      1       2                5\n",
            "13      1       0                3\n",
            "14      1       2                5\n",
            "15      4       1               13\n",
            "16      4       2               14\n",
            "17      4       1               13\n",
            "18      4       0               12\n",
            "19      4       1               13\n",
            "20      1       0                3\n",
            "21      1       1                4\n",
            "22      1       0                3\n",
            "23      1       1                4\n",
            "24      1       2                5\n",
            "The 'date' column has been dropped.\n",
            "first 5 line of final feature set:\n",
            "   sku  brand  segment  category  channel  region  pack_type  price_unit  \\\n",
            "0    2      1        3         1        2       0          1        2.38   \n",
            "1    2      1        3         1        2       1          2        1.55   \n",
            "2    2      1        3         1        2       2          0        4.00   \n",
            "3    2      1        3         1        0       0          2        5.16   \n",
            "4    2      1        3         1        0       1          2        7.66   \n",
            "\n",
            "   promotion_flag  delivery_days  ...  day_of_year  week_of_year  quarter  \\\n",
            "0               0              1  ...           21             3        1   \n",
            "1               1              3  ...           21             3        1   \n",
            "2               0              5  ...           21             3        1   \n",
            "3               0              2  ...           21             3        1   \n",
            "4               0              4  ...           21             3        1   \n",
            "\n",
            "   day_of_week_sin  day_of_week_cos  month_sin  month_cos  day_of_year_sin  \\\n",
            "0        -0.433884        -0.900969        0.5   0.866025         0.353676   \n",
            "1        -0.433884        -0.900969        0.5   0.866025         0.353676   \n",
            "2        -0.433884        -0.900969        0.5   0.866025         0.353676   \n",
            "3        -0.433884        -0.900969        0.5   0.866025         0.353676   \n",
            "4        -0.433884        -0.900969        0.5   0.866025         0.353676   \n",
            "\n",
            "   day_of_year_cos  b_r_interaction  \n",
            "0         0.935368                3  \n",
            "1         0.935368                4  \n",
            "2         0.935368                5  \n",
            "3         0.935368                3  \n",
            "4         0.935368                4  \n",
            "\n",
            "[5 rows x 27 columns]\n"
          ]
        }
      ]
    },
    {
      "cell_type": "markdown",
      "source": [
        "# Model Training\n"
      ],
      "metadata": {
        "id": "be47Ns4Mep0y"
      }
    },
    {
      "cell_type": "code",
      "source": [
        "# now dropping \"unit_sold\" and saving it in y variable\n",
        "X = FMCG_data.drop([\"units_sold\"],axis = 1)\n",
        "Y = FMCG_data[\"units_sold\"]\n",
        "print(\"---------------------------\")\n",
        "print(\"Printing value in X :\")\n",
        "print(X)\n",
        "print(\"---------------------------\")\n",
        "print (\"\\n Printing Units sold (Y) :\")\n",
        "print(Y)\n",
        "print(\"-------------------------\")\n",
        "# we will split the data in 80% and 20%, 80% for training and 20% for test data\n",
        "X_train , X_test , Y_train , Y_test = train_test_split(X,Y, test_size=0.2 , random_state=0)\n",
        "\n",
        "print(\"Training set size:\", X_train.shape)\n",
        "print(\"Testing set size:\", X_test.shape)\n",
        "\n",
        "print(\"-----------------------------\")\n",
        "# train the LightGBM Regressor model\n",
        "model = lgb.LGBMRegressor(random_state=50)\n",
        "\n",
        "print(\"-----------------------------\")\n",
        "print(\"\\n\")\n",
        "print (\"Training the LightGBM model\")\n",
        "\n",
        "# Fit the data in model\n",
        "model.fit(X_train,Y_train)\n",
        "print(\"------------------------------\")\n",
        "print(\"Data fited in model\")\n",
        "print(\"Model training sucessusfull\")\n",
        "\n",
        "# Making prediction on the test set\n",
        "print(\"------------------------------\")\n",
        "print(\"\\nShowing the prediction on test set:\")\n",
        "Y_prediction = model.predict(X_test)\n",
        "print(Y_prediction)"
      ],
      "metadata": {
        "colab": {
          "base_uri": "https://localhost:8080/"
        },
        "id": "AVRU5e4L7bRg",
        "outputId": "3b4f4a5f-1c48-4c24-b143-a290a193ae15"
      },
      "execution_count": 88,
      "outputs": [
        {
          "output_type": "stream",
          "name": "stdout",
          "text": [
            "---------------------------\n",
            "Printing value in X :\n",
            "        sku  brand  segment  category  channel  region  pack_type  price_unit  \\\n",
            "0         2      1        3         1        2       0          1        2.38   \n",
            "1         2      1        3         1        2       1          2        1.55   \n",
            "2         2      1        3         1        2       2          0        4.00   \n",
            "3         2      1        3         1        0       0          2        5.16   \n",
            "4         2      1        3         1        0       1          2        7.66   \n",
            "...     ...    ...      ...       ...      ...     ...        ...         ...   \n",
            "190752   18      8        7         3        0       1          2        2.55   \n",
            "190753   18      8        7         3        0       2          2        6.01   \n",
            "190754   18      8        7         3        1       0          2        3.45   \n",
            "190755   18      8        7         3        1       1          1        1.93   \n",
            "190756   18      8        7         3        1       2          2        1.91   \n",
            "\n",
            "        promotion_flag  delivery_days  ...  day_of_year  week_of_year  \\\n",
            "0                    0              1  ...           21             3   \n",
            "1                    1              3  ...           21             3   \n",
            "2                    0              5  ...           21             3   \n",
            "3                    0              2  ...           21             3   \n",
            "4                    0              4  ...           21             3   \n",
            "...                ...            ...  ...          ...           ...   \n",
            "190752               0              2  ...          366             1   \n",
            "190753               0              5  ...          366             1   \n",
            "190754               0              5  ...          366             1   \n",
            "190755               1              2  ...          366             1   \n",
            "190756               0              5  ...          366             1   \n",
            "\n",
            "        quarter  day_of_week_sin  day_of_week_cos     month_sin  month_cos  \\\n",
            "0             1        -0.433884        -0.900969  5.000000e-01   0.866025   \n",
            "1             1        -0.433884        -0.900969  5.000000e-01   0.866025   \n",
            "2             1        -0.433884        -0.900969  5.000000e-01   0.866025   \n",
            "3             1        -0.433884        -0.900969  5.000000e-01   0.866025   \n",
            "4             1        -0.433884        -0.900969  5.000000e-01   0.866025   \n",
            "...         ...              ...              ...           ...        ...   \n",
            "190752        4         0.781831         0.623490 -2.449294e-16   1.000000   \n",
            "190753        4         0.781831         0.623490 -2.449294e-16   1.000000   \n",
            "190754        4         0.781831         0.623490 -2.449294e-16   1.000000   \n",
            "190755        4         0.781831         0.623490 -2.449294e-16   1.000000   \n",
            "190756        4         0.781831         0.623490 -2.449294e-16   1.000000   \n",
            "\n",
            "        day_of_year_sin  day_of_year_cos  b_r_interaction  \n",
            "0              0.353676         0.935368                3  \n",
            "1              0.353676         0.935368                4  \n",
            "2              0.353676         0.935368                5  \n",
            "3              0.353676         0.935368                3  \n",
            "4              0.353676         0.935368                4  \n",
            "...                 ...              ...              ...  \n",
            "190752         0.017213         0.999852               25  \n",
            "190753         0.017213         0.999852               26  \n",
            "190754         0.017213         0.999852               24  \n",
            "190755         0.017213         0.999852               25  \n",
            "190756         0.017213         0.999852               26  \n",
            "\n",
            "[190757 rows x 26 columns]\n",
            "---------------------------\n",
            "\n",
            " Printing Units sold (Y) :\n",
            "0          9\n",
            "1          0\n",
            "2          8\n",
            "3          7\n",
            "4         12\n",
            "          ..\n",
            "190752    25\n",
            "190753    19\n",
            "190754     0\n",
            "190755    40\n",
            "190756     8\n",
            "Name: units_sold, Length: 190757, dtype: int64\n",
            "-------------------------\n",
            "Training set size: (152605, 26)\n",
            "Testing set size: (38152, 26)\n",
            "-----------------------------\n",
            "-----------------------------\n",
            "\n",
            "\n",
            "Training the LightGBM model\n",
            "[LightGBM] [Info] Auto-choosing row-wise multi-threading, the overhead of testing was 0.012703 seconds.\n",
            "You can set `force_row_wise=true` to remove the overhead.\n",
            "And if memory is not enough, you can set `force_col_wise=true`.\n",
            "[LightGBM] [Info] Total Bins 1776\n",
            "[LightGBM] [Info] Number of data points in the train set: 152605, number of used features: 26\n",
            "[LightGBM] [Info] Start training from score 19.927309\n",
            "------------------------------\n",
            "Data fited in model\n",
            "Model training sucessusfull\n",
            "------------------------------\n",
            "\n",
            "Showing the prediction on test set:\n",
            "[21.35641391 17.36537864 15.59993179 ... 29.63688771 24.23122336\n",
            " 21.95026007]\n"
          ]
        }
      ]
    },
    {
      "cell_type": "markdown",
      "source": [
        "# cecking the prediction test ( error SCORE)"
      ],
      "metadata": {
        "id": "aqTaMRZty4zX"
      }
    },
    {
      "cell_type": "code",
      "source": [
        "# calulation the score (mean absolute, mean squared, r-squared )\n",
        "\n",
        "r2_error = r2_score(Y_test,Y_prediction)\n",
        "print(\"Root mean Square Error\")\n",
        "print(\"rsquare:\", r2_error)\n",
        "print(\"---------------------------------\")\n",
        "\n",
        "ms_error = mean_squared_error(Y_test,Y_prediction)\n",
        "print(\"Mean Squared Error\")\n",
        "print(\"MSE:\", ms_error)\n",
        "print(\"---------------------------------\")\n",
        "\n",
        "ma_error = mean_absolute_error(Y_test,Y_prediction)\n",
        "print(\"Mean Absolute Error\")\n",
        "print(\"MAE:\", ma_error)\n",
        "print(\"---------------------------------\")"
      ],
      "metadata": {
        "colab": {
          "base_uri": "https://localhost:8080/"
        },
        "id": "usi5n40sf660",
        "outputId": "8a7dbf6b-17dd-42b1-e1f0-1f06075f6033"
      },
      "execution_count": 89,
      "outputs": [
        {
          "output_type": "stream",
          "name": "stdout",
          "text": [
            "Root mean Square Error\n",
            "rsquare: 0.794131005202142\n",
            "---------------------------------\n",
            "Mean Squared Error\n",
            "MSE: 28.691321411123496\n",
            "---------------------------------\n",
            "Mean Absolute Error\n",
            "MAE: 3.7146842297266214\n",
            "---------------------------------\n"
          ]
        }
      ]
    },
    {
      "cell_type": "code",
      "source": [
        "#using other plot method to compair\n",
        "Y_test = list(Y_test)\n",
        "plt.plot(Y_test, color='blue', label='Actual Price')\n",
        "plt.plot(Y_prediction, color='green', label='Predicted Price')\n",
        "plt.title('Actual Price vs Predicted Price')\n",
        "plt.xlabel('Observation Index')\n",
        "plt.ylabel('Units Sold / Price')\n",
        "plt.legend()\n",
        "plt.show()"
      ],
      "metadata": {
        "colab": {
          "base_uri": "https://localhost:8080/",
          "height": 472
        },
        "id": "lkHJ_ypv0Ti7",
        "outputId": "daf2e5f7-9646-4f80-b9b1-74a4374ca3eb"
      },
      "execution_count": 90,
      "outputs": [
        {
          "output_type": "display_data",
          "data": {
            "text/plain": [
              "<Figure size 640x480 with 1 Axes>"
            ],
            "image/png": "[encoded data removed]"
          },
          "metadata": {}
        }
      ]
    },
    {
      "cell_type": "code",
      "source": [
        "# creating copy\n",
        "results_X = X_test.copy()\n",
        "\n",
        "# Add the actual, true values from Y_test\n",
        "results_X['Actual_Sales'] = Y_test\n",
        "\n",
        "# Add the predictions your model made\n",
        "results_X['Predicted_Sales'] = Y_prediction\n",
        "\n",
        "# It's helpful to round the predictions\n",
        "results_X['Predicted_Sales'] = results_X['Predicted_Sales'].round(0).astype(int)\n",
        "\n",
        "# Calculate the difference (the error) between the actual and predicted values\n",
        "results_X['Error'] = results_X['Actual_Sales'] - results_X['Predicted_Sales']\n",
        "\n",
        "# This shows the date features, key product info, and the results\n",
        "final_results = results_X[['year','month','day','Actual_Sales','Predicted_Sales','Error']]\n",
        "\n",
        "print(\" Comparison of Actual vs. Predicted Sales with Error:\")\n",
        "print((final_results).head(10))"
      ],
      "metadata": {
        "colab": {
          "base_uri": "https://localhost:8080/"
        },
        "id": "Cqbu2fRA47Z9",
        "outputId": "e68c2b16-ae39-4d1c-e177-1f0e603dbb74"
      },
      "execution_count": 111,
      "outputs": [
        {
          "output_type": "stream",
          "name": "stdout",
          "text": [
            " Comparison of Actual vs. Predicted Sales with Error:\n",
            "        year  month  day  Actual_Sales  Predicted_Sales  Error\n",
            "73827   2023      8   10            23               21      2\n",
            "113550  2024      1   30            20               17      3\n",
            "69440   2023      7   22            17               16      1\n",
            "66585   2023      7    9            12               16     -4\n",
            "125953  2024      3   24            15               14      1\n",
            "115648  2024      2    8            19               21     -2\n",
            "176423  2024     10   30            13               14     -1\n",
            "94709   2023     11    9            44               41      3\n",
            "160476  2024      8   22            13               11      2\n",
            "139899  2024      5   24             6                5      1\n"
          ]
        }
      ]
    },
    {
      "cell_type": "code",
      "source": [],
      "metadata": {
        "id": "yNWkoSBkXfHX"
      },
      "execution_count": null,
      "outputs": []
    }
  ]
}